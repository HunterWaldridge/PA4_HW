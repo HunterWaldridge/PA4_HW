{
 "cells": [
  {
   "cell_type": "markdown",
   "id": "d38b8a47",
   "metadata": {},
   "source": [
    "# Programming Assignment 4\n",
    "## Hunter Waldridge\n",
    "## Bellarmine University\n",
    "### CS-150"
   ]
  },
  {
   "cell_type": "markdown",
   "id": "d3fda091",
   "metadata": {},
   "source": [
    "## a. Functions for lists"
   ]
  },
  {
   "cell_type": "markdown",
   "id": "03eb3705",
   "metadata": {},
   "source": [
    "#### Below is the example list that will be used for most functions described in this section."
   ]
  },
  {
   "cell_type": "code",
   "execution_count": 8,
   "id": "0eebc06d",
   "metadata": {},
   "outputs": [
    {
     "data": {
      "text/plain": [
       "[106, 103, 55, 149, 16, 4, 42, 199, 60, 54]"
      ]
     },
     "execution_count": 8,
     "metadata": {},
     "output_type": "execute_result"
    }
   ],
   "source": [
    "import random\n",
    "example_list=[random.randrange(1,201) for i in range(10)]\n",
    "example_list"
   ]
  },
  {
   "cell_type": "markdown",
   "id": "b75fc700",
   "metadata": {},
   "source": [
    "1. append() - this adds a SINGLE element to the end of the list"
   ]
  },
  {
   "cell_type": "code",
   "execution_count": 9,
   "id": "9119f023",
   "metadata": {},
   "outputs": [
    {
     "data": {
      "text/plain": [
       "[106, 103, 55, 149, 16, 4, 42, 199, 60, 54, 197]"
      ]
     },
     "execution_count": 9,
     "metadata": {},
     "output_type": "execute_result"
    }
   ],
   "source": [
    "example_list.append(197)\n",
    "example_list"
   ]
  },
  {
   "cell_type": "markdown",
   "id": "d3ce8dac",
   "metadata": {},
   "source": [
    "2. extend() - this is used to add MULTIPLE elements to the list"
   ]
  },
  {
   "cell_type": "code",
   "execution_count": 12,
   "id": "f25ee889",
   "metadata": {},
   "outputs": [
    {
     "data": {
      "text/plain": [
       "[106, 103, 55, 149, 16, 4, 42, 199, 60, 54, 197, 60, 2, 3]"
      ]
     },
     "execution_count": 12,
     "metadata": {},
     "output_type": "execute_result"
    }
   ],
   "source": [
    "example_list.extend([60,2,3])\n",
    "example_list"
   ]
  },
  {
   "cell_type": "markdown",
   "id": "064e614c",
   "metadata": {},
   "source": [
    "3. insert() - inserts an element into the list at specified index location"
   ]
  },
  {
   "cell_type": "code",
   "execution_count": 14,
   "id": "1dc6a80c",
   "metadata": {},
   "outputs": [
    {
     "data": {
      "text/plain": [
       "[22, 106, 103, 55, 149, 16, 4, 42, 199, 60, 54, 197, 60, 2, 3]"
      ]
     },
     "execution_count": 14,
     "metadata": {},
     "output_type": "execute_result"
    }
   ],
   "source": [
    "example_list.insert(0,22)\n",
    "example_list"
   ]
  },
  {
   "cell_type": "markdown",
   "id": "e5e04b46",
   "metadata": {},
   "source": [
    "4. remove() - removes first occurence of specified value from list"
   ]
  },
  {
   "cell_type": "code",
   "execution_count": 16,
   "id": "61e39ae7",
   "metadata": {},
   "outputs": [
    {
     "data": {
      "text/plain": [
       "[22, 106, 103, 55, 149, 16, 4, 42, 199, 54, 197, 60, 2, 3]"
      ]
     },
     "execution_count": 16,
     "metadata": {},
     "output_type": "execute_result"
    }
   ],
   "source": [
    "example_list.remove(60)\n",
    "example_list"
   ]
  },
  {
   "cell_type": "markdown",
   "id": "4b8a65fa",
   "metadata": {},
   "source": [
    "5. count() - counts how many occurences of a certain value there is in the list"
   ]
  },
  {
   "cell_type": "code",
   "execution_count": 21,
   "id": "a9c3cb2d",
   "metadata": {},
   "outputs": [
    {
     "data": {
      "text/plain": [
       "[22, 106, 103, 55, 149, 16, 4, 42, 199, 54, 197, 60, 2, 3, 42, 42, 42]"
      ]
     },
     "execution_count": 21,
     "metadata": {},
     "output_type": "execute_result"
    }
   ],
   "source": [
    "# For this example I will use extend function to add multiple elements\n",
    "# of the same value to show how count function works\n",
    "\n",
    "# Example of count function in next cell.\n",
    "\n",
    "example_list.extend([42,42,42])\n",
    "example_list"
   ]
  },
  {
   "cell_type": "code",
   "execution_count": 19,
   "id": "2111099d",
   "metadata": {},
   "outputs": [
    {
     "data": {
      "text/plain": [
       "4"
      ]
     },
     "execution_count": 19,
     "metadata": {},
     "output_type": "execute_result"
    }
   ],
   "source": [
    "example_list.count(42)"
   ]
  },
  {
   "cell_type": "markdown",
   "id": "261aca4b",
   "metadata": {},
   "source": [
    "6. index() - returns index location of value in the list"
   ]
  },
  {
   "cell_type": "code",
   "execution_count": 23,
   "id": "5466920d",
   "metadata": {},
   "outputs": [
    {
     "name": "stdout",
     "output_type": "stream",
     "text": [
      "[22, 106, 103, 55, 149, 16, 4, 42, 199, 54, 197, 60, 2, 3, 42, 42, 42]\n"
     ]
    },
    {
     "data": {
      "text/plain": [
       "6"
      ]
     },
     "execution_count": 23,
     "metadata": {},
     "output_type": "execute_result"
    }
   ],
   "source": [
    "print(example_list)\n",
    "example_list.index(4)"
   ]
  },
  {
   "cell_type": "markdown",
   "id": "a8601984",
   "metadata": {},
   "source": [
    "7. pop() - removes element from list at specified index location then returns it"
   ]
  },
  {
   "cell_type": "code",
   "execution_count": 26,
   "id": "ca91b51b",
   "metadata": {},
   "outputs": [
    {
     "data": {
      "text/plain": [
       "[22, 106, 103, 55, 149, 16, 4, 42, 199, 54, 197, 60, 2, 3, 42, 42]"
      ]
     },
     "execution_count": 26,
     "metadata": {},
     "output_type": "execute_result"
    }
   ],
   "source": [
    "example_list.pop(14)\n",
    "example_list"
   ]
  },
  {
   "cell_type": "markdown",
   "id": "176da4e4",
   "metadata": {},
   "source": [
    "8. sorted() - sorts existing list and stores it in a new list"
   ]
  },
  {
   "cell_type": "code",
   "execution_count": 28,
   "id": "5ed07d46",
   "metadata": {},
   "outputs": [
    {
     "data": {
      "text/plain": [
       "[2, 3, 4, 16, 22, 42, 42, 42, 54, 55, 60, 103, 106, 149, 197, 199]"
      ]
     },
     "execution_count": 28,
     "metadata": {},
     "output_type": "execute_result"
    }
   ],
   "source": [
    "sorted_list = sorted(example_list)\n",
    "sorted_list"
   ]
  },
  {
   "cell_type": "markdown",
   "id": "8ee1c0f7",
   "metadata": {},
   "source": [
    "9. copy() - returns copy of existing list so changes can be made without altering original list."
   ]
  },
  {
   "cell_type": "code",
   "execution_count": 30,
   "id": "9f2e9130",
   "metadata": {},
   "outputs": [
    {
     "data": {
      "text/plain": [
       "[22, 106, 103, 55, 149, 16, 4, 42, 199, 54, 197, 60, 2, 3, 42, 42]"
      ]
     },
     "execution_count": 30,
     "metadata": {},
     "output_type": "execute_result"
    }
   ],
   "source": [
    "copied_list = example_list.copy()\n",
    "copied_list"
   ]
  },
  {
   "cell_type": "markdown",
   "id": "ae3d9ac2",
   "metadata": {},
   "source": [
    "10. clear() - removes all elements from the list"
   ]
  },
  {
   "cell_type": "code",
   "execution_count": 31,
   "id": "9b6462ac",
   "metadata": {},
   "outputs": [
    {
     "data": {
      "text/plain": [
       "[]"
      ]
     },
     "execution_count": 31,
     "metadata": {},
     "output_type": "execute_result"
    }
   ],
   "source": [
    "# I will clear copied_list so I can keep the example_list intact.\n",
    "\n",
    "copied_list.clear()\n",
    "copied_list"
   ]
  },
  {
   "cell_type": "markdown",
   "id": "23056775",
   "metadata": {},
   "source": [
    "11. any() - returns True if any item in its iterable argument is True"
   ]
  },
  {
   "cell_type": "code",
   "execution_count": 32,
   "id": "075304f6",
   "metadata": {},
   "outputs": [
    {
     "data": {
      "text/plain": [
       "True"
      ]
     },
     "execution_count": 32,
     "metadata": {},
     "output_type": "execute_result"
    }
   ],
   "source": [
    "items = [True, False, False, True, False]\n",
    "any(items)"
   ]
  },
  {
   "cell_type": "markdown",
   "id": "eac3ba2b",
   "metadata": {},
   "source": [
    "12. filter() - returns an iterator with the values in function(item) that returned as True. If function is None, returns items that are true."
   ]
  },
  {
   "cell_type": "code",
   "execution_count": 39,
   "id": "438f8acb",
   "metadata": {},
   "outputs": [
    {
     "name": "stdout",
     "output_type": "stream",
     "text": [
      "[22, 106, 103, 55, 149, 16, 4, 42, 199, 54, 197, 60, 2, 3, 42, 42]\n",
      "[22, 106, 16, 4, 42, 54, 60, 2, 42, 42]\n"
     ]
    }
   ],
   "source": [
    "def check_even(example_list): # Function to check for even numbers in example_list\n",
    "    if example_list%2==0:\n",
    "        return True\n",
    "    else:\n",
    "        return False\n",
    "\n",
    "even_numbers_filter = filter(check_even, example_list) # Filters to check for values returned as True\n",
    "even_numbers_list = list(even_numbers_filter) # Takes filtered result and puts it into a new list (even_numbers_list)\n",
    "\n",
    "print(example_list)\n",
    "print(even_numbers_list)"
   ]
  },
  {
   "cell_type": "markdown",
   "id": "7dd13a73",
   "metadata": {},
   "source": [
    "13. list() - creates a list from an iterable. "
   ]
  },
  {
   "cell_type": "code",
   "execution_count": 43,
   "id": "7714b33d",
   "metadata": {},
   "outputs": [
    {
     "name": "stdout",
     "output_type": "stream",
     "text": [
      "['H', 'u', 'n', 't', 'e', 'r', ' ', 'W', 'a', 'l', 'd', 'r', 'i', 'd', 'g', 'e'] "
     ]
    }
   ],
   "source": [
    "text = 'Hunter Waldridge'\n",
    "text_list = list(text)\n",
    "print(text_list, end = ' ')"
   ]
  },
  {
   "cell_type": "markdown",
   "id": "924aaea8",
   "metadata": {},
   "source": [
    "14. map() - applies a given function to each item of an iterable and returns an iterator."
   ]
  },
  {
   "cell_type": "code",
   "execution_count": 45,
   "id": "2b8e09a0",
   "metadata": {},
   "outputs": [
    {
     "name": "stdout",
     "output_type": "stream",
     "text": [
      "[22, 106, 103, 55, 149, 16, 4, 42, 199, 54, 197, 60, 2, 3, 42, 42]\n",
      "[484, 11236, 10609, 3025, 22201, 256, 16, 1764, 39601, 2916, 38809, 3600, 4, 9, 1764, 1764]\n"
     ]
    }
   ],
   "source": [
    "def square(number):\n",
    "    return number * number\n",
    "\n",
    "squared_numbers = map(square, example_list)\n",
    "squared_numbers_list = list(squared_numbers)\n",
    "\n",
    "print(example_list)\n",
    "print(squared_numbers_list)"
   ]
  },
  {
   "cell_type": "markdown",
   "id": "c2f5aaaa",
   "metadata": {},
   "source": [
    "## b. Functions for tuples"
   ]
  },
  {
   "cell_type": "markdown",
   "id": "34998eb2",
   "metadata": {},
   "source": [
    "1. cmp() - compares elements of two tuples"
   ]
  },
  {
   "cell_type": "code",
   "execution_count": 53,
   "id": "be0582c2",
   "metadata": {},
   "outputs": [
    {
     "name": "stdout",
     "output_type": "stream",
     "text": [
      "-1\n",
      "1\n"
     ]
    }
   ],
   "source": [
    "# This function was removed from Python 3, however I can define a new function to show how it would work.\n",
    "\n",
    "def cmp(a,b):\n",
    "    return (a>b)-(a<b)\n",
    "\n",
    "tuple1 = (1,2,3)\n",
    "tuple2=(4,5,6)\n",
    "\n",
    "print(cmp(tuple1,tuple2))\n",
    "\n",
    "# Result shows tuple1<tuple2 (0-1=-1)\n",
    "\n",
    "tuple3=(4,5,6)\n",
    "tuple4=(1,2,3)\n",
    "\n",
    "print(cmp(tuple3,tuple4))\n",
    "\n",
    "# Result shows tuple3>tuple4 (1-0=1)"
   ]
  },
  {
   "cell_type": "markdown",
   "id": "74e211dc",
   "metadata": {},
   "source": [
    "2. len() - returns the number of items in a container"
   ]
  },
  {
   "cell_type": "code",
   "execution_count": 55,
   "id": "11369b63",
   "metadata": {},
   "outputs": [
    {
     "data": {
      "text/plain": [
       "9"
      ]
     },
     "execution_count": 55,
     "metadata": {},
     "output_type": "execute_result"
    }
   ],
   "source": [
    "example_tuple = (1,4,39,192,392,283,27,2,28)\n",
    "len(example_tuple)"
   ]
  },
  {
   "cell_type": "markdown",
   "id": "9a5df266",
   "metadata": {},
   "source": [
    "3. max() - returns biggest item in tuple"
   ]
  },
  {
   "cell_type": "code",
   "execution_count": 58,
   "id": "add5b266",
   "metadata": {},
   "outputs": [
    {
     "name": "stdout",
     "output_type": "stream",
     "text": [
      "(1, 4, 39, 192, 392, 283, 27, 2, 28)\n"
     ]
    },
    {
     "data": {
      "text/plain": [
       "392"
      ]
     },
     "execution_count": 58,
     "metadata": {},
     "output_type": "execute_result"
    }
   ],
   "source": [
    "print(example_tuple)\n",
    "max(example_tuple)"
   ]
  },
  {
   "cell_type": "markdown",
   "id": "ccc3b41b",
   "metadata": {},
   "source": [
    "4. tuple(seq) - used to convert a sequence of items into a tuple"
   ]
  },
  {
   "cell_type": "code",
   "execution_count": 64,
   "id": "d72c7ab5",
   "metadata": {},
   "outputs": [
    {
     "data": {
      "text/plain": [
       "(1, 2, 3, 4, 5)"
      ]
     },
     "execution_count": 64,
     "metadata": {},
     "output_type": "execute_result"
    }
   ],
   "source": [
    "numbers = [1,2,3,4,5]\n",
    "tuple(numbers)"
   ]
  },
  {
   "cell_type": "markdown",
   "id": "78299255",
   "metadata": {},
   "source": [
    "#### Bonus Practice:"
   ]
  },
  {
   "cell_type": "code",
   "execution_count": 17,
   "id": "4a1162c5",
   "metadata": {},
   "outputs": [
    {
     "data": {
      "text/plain": [
       "(89, 21, 43)"
      ]
     },
     "execution_count": 17,
     "metadata": {},
     "output_type": "execute_result"
    }
   ],
   "source": [
    "def rotate(Tuple):\n",
    "    (a,b,c)=Tuple # Expects 3 values to unpack\n",
    "    return tuple(reversed(Tuple)) # Reverses tuple\n",
    "rotate_example = (43,21,89)\n",
    "rotate(rotate_example)\n",
    "    "
   ]
  },
  {
   "cell_type": "code",
   "execution_count": 43,
   "id": "bfd7725c",
   "metadata": {},
   "outputs": [
    {
     "name": "stdout",
     "output_type": "stream",
     "text": [
      "List before function: [15, 60, 81, 96, 78, 24, 8, 13, 20, 13, 46, 22, 74, 17, 93]\n",
      "List after function: [-1, 1, -1, 1, 1, 1, 1, -1, 1, -1, 1, 1, 1, -1, -1]\n"
     ]
    }
   ],
   "source": [
    "def encode(List):\n",
    "    for x in range(len(List)):\n",
    "        if List[x]%2==0:\n",
    "            List[x]=1\n",
    "        else:\n",
    "            List[x]=-1\n",
    "    return List\n",
    "\n",
    "import random\n",
    "\n",
    "L=[random.randrange(1,101) for x in range (15)]\n",
    "print(\"List before function:\", L)\n",
    "print(\"List after function:\", encode(L))"
   ]
  },
  {
   "cell_type": "code",
   "execution_count": null,
   "id": "07a215f6",
   "metadata": {},
   "outputs": [],
   "source": []
  }
 ],
 "metadata": {
  "kernelspec": {
   "display_name": "Python 3",
   "language": "python",
   "name": "python3"
  },
  "language_info": {
   "codemirror_mode": {
    "name": "ipython",
    "version": 3
   },
   "file_extension": ".py",
   "mimetype": "text/x-python",
   "name": "python",
   "nbconvert_exporter": "python",
   "pygments_lexer": "ipython3",
   "version": "3.8.8"
  }
 },
 "nbformat": 4,
 "nbformat_minor": 5
}
